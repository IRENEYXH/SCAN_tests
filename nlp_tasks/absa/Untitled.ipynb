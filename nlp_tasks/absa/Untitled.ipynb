{
 "cells": [
  {
   "cell_type": "code",
   "execution_count": 10,
   "metadata": {},
   "outputs": [
    {
     "name": "stdout",
     "output_type": "stream",
     "text": [
      "Defaulting to user installation because normal site-packages is not writeable\n",
      "Collecting benepar\n",
      "  Downloading benepar-0.2.0.tar.gz (33 kB)\n",
      "Requirement already satisfied: nltk>=3.2 in /opt/conda/lib/python3.7/site-packages (from benepar) (3.5)\n",
      "Requirement already satisfied: spacy>=2.0.9 in /home/xuy021/.local/lib/python3.7/site-packages (from benepar) (3.0.5)\n",
      "Requirement already satisfied: torch>=1.6.0 in /home/xuy021/.local/lib/python3.7/site-packages (from benepar) (1.7.1)\n",
      "Collecting torch-struct>=0.5\n",
      "  Downloading torch_struct-0.5-py3-none-any.whl (34 kB)\n",
      "Requirement already satisfied: tokenizers>=0.9.4 in /home/xuy021/.local/lib/python3.7/site-packages (from benepar) (0.10.1)\n",
      "Requirement already satisfied: transformers[tokenizers,torch]>=4.2.2 in /home/xuy021/.local/lib/python3.7/site-packages (from benepar) (4.3.3)\n",
      "Requirement already satisfied: protobuf in /opt/conda/lib/python3.7/site-packages (from benepar) (3.11.4)\n",
      "Requirement already satisfied: sentencepiece>=0.1.91 in /home/xuy021/.local/lib/python3.7/site-packages (from benepar) (0.1.95)\n",
      "Requirement already satisfied: click in /opt/conda/lib/python3.7/site-packages (from nltk>=3.2->benepar) (7.1.2)\n",
      "Requirement already satisfied: tqdm in /opt/conda/lib/python3.7/site-packages (from nltk>=3.2->benepar) (4.46.1)\n",
      "Requirement already satisfied: joblib in /opt/conda/lib/python3.7/site-packages (from nltk>=3.2->benepar) (0.15.1)\n",
      "Requirement already satisfied: regex in /opt/conda/lib/python3.7/site-packages (from nltk>=3.2->benepar) (2020.10.28)\n",
      "Requirement already satisfied: numpy>=1.15.0 in /opt/conda/lib/python3.7/site-packages (from spacy>=2.0.9->benepar) (1.18.5)\n",
      "Requirement already satisfied: typer<0.4.0,>=0.3.0 in /home/xuy021/.local/lib/python3.7/site-packages (from spacy>=2.0.9->benepar) (0.3.2)\n",
      "Requirement already satisfied: pathy>=0.3.5 in /home/xuy021/.local/lib/python3.7/site-packages (from spacy>=2.0.9->benepar) (0.4.0)\n",
      "Requirement already satisfied: requests<3.0.0,>=2.13.0 in /opt/conda/lib/python3.7/site-packages (from spacy>=2.0.9->benepar) (2.24.0)\n",
      "Requirement already satisfied: typing-extensions<4.0.0.0,>=3.7.4; python_version < \"3.8\" in /opt/conda/lib/python3.7/site-packages (from spacy>=2.0.9->benepar) (3.7.4.2)\n",
      "Requirement already satisfied: cymem<2.1.0,>=2.0.2 in /home/xuy021/.local/lib/python3.7/site-packages (from spacy>=2.0.9->benepar) (2.0.5)\n",
      "Requirement already satisfied: catalogue<2.1.0,>=2.0.1 in /home/xuy021/.local/lib/python3.7/site-packages (from spacy>=2.0.9->benepar) (2.0.1)\n",
      "Requirement already satisfied: murmurhash<1.1.0,>=0.28.0 in /home/xuy021/.local/lib/python3.7/site-packages (from spacy>=2.0.9->benepar) (1.0.5)\n",
      "Requirement already satisfied: preshed<3.1.0,>=3.0.2 in /home/xuy021/.local/lib/python3.7/site-packages (from spacy>=2.0.9->benepar) (3.0.5)\n",
      "Requirement already satisfied: pydantic<1.8.0,>=1.7.1 in /home/xuy021/.local/lib/python3.7/site-packages (from spacy>=2.0.9->benepar) (1.7.3)\n",
      "Requirement already satisfied: spacy-legacy<3.1.0,>=3.0.0 in /home/xuy021/.local/lib/python3.7/site-packages (from spacy>=2.0.9->benepar) (3.0.1)\n",
      "Requirement already satisfied: jinja2 in /opt/conda/lib/python3.7/site-packages (from spacy>=2.0.9->benepar) (2.11.2)\n",
      "Requirement already satisfied: importlib-metadata>=0.20; python_version < \"3.8\" in /opt/conda/lib/python3.7/site-packages (from spacy>=2.0.9->benepar) (1.6.1)\n",
      "Requirement already satisfied: setuptools in /opt/conda/lib/python3.7/site-packages (from spacy>=2.0.9->benepar) (47.3.1.post20200616)\n",
      "Requirement already satisfied: wasabi<1.1.0,>=0.8.1 in /home/xuy021/.local/lib/python3.7/site-packages (from spacy>=2.0.9->benepar) (0.8.2)\n",
      "Requirement already satisfied: blis<0.8.0,>=0.4.0 in /home/xuy021/.local/lib/python3.7/site-packages (from spacy>=2.0.9->benepar) (0.7.4)\n",
      "Requirement already satisfied: packaging>=20.0 in /opt/conda/lib/python3.7/site-packages (from spacy>=2.0.9->benepar) (20.4)\n",
      "Requirement already satisfied: srsly<3.0.0,>=2.4.0 in /home/xuy021/.local/lib/python3.7/site-packages (from spacy>=2.0.9->benepar) (2.4.0)\n",
      "Requirement already satisfied: thinc<8.1.0,>=8.0.2 in /home/xuy021/.local/lib/python3.7/site-packages (from spacy>=2.0.9->benepar) (8.0.2)\n",
      "Requirement already satisfied: filelock in /home/xuy021/.local/lib/python3.7/site-packages (from transformers[tokenizers,torch]>=4.2.2->benepar) (3.0.12)\n",
      "Requirement already satisfied: sacremoses in /home/xuy021/.local/lib/python3.7/site-packages (from transformers[tokenizers,torch]>=4.2.2->benepar) (0.0.43)\n",
      "Requirement already satisfied: six>=1.9 in /opt/conda/lib/python3.7/site-packages (from protobuf->benepar) (1.15.0)\n",
      "Requirement already satisfied: smart-open<4.0.0,>=2.2.0 in /home/xuy021/.local/lib/python3.7/site-packages (from pathy>=0.3.5->spacy>=2.0.9->benepar) (3.0.0)\n",
      "Requirement already satisfied: chardet<4,>=3.0.2 in /opt/conda/lib/python3.7/site-packages (from requests<3.0.0,>=2.13.0->spacy>=2.0.9->benepar) (3.0.4)\n",
      "Requirement already satisfied: urllib3!=1.25.0,!=1.25.1,<1.26,>=1.21.1 in /opt/conda/lib/python3.7/site-packages (from requests<3.0.0,>=2.13.0->spacy>=2.0.9->benepar) (1.25.9)\n",
      "Requirement already satisfied: certifi>=2017.4.17 in /opt/conda/lib/python3.7/site-packages (from requests<3.0.0,>=2.13.0->spacy>=2.0.9->benepar) (2020.11.8)\n",
      "Requirement already satisfied: idna<3,>=2.5 in /opt/conda/lib/python3.7/site-packages (from requests<3.0.0,>=2.13.0->spacy>=2.0.9->benepar) (2.9)\n",
      "Requirement already satisfied: MarkupSafe>=0.23 in /opt/conda/lib/python3.7/site-packages (from jinja2->spacy>=2.0.9->benepar) (1.1.1)\n",
      "Requirement already satisfied: zipp>=0.5 in /opt/conda/lib/python3.7/site-packages (from importlib-metadata>=0.20; python_version < \"3.8\"->spacy>=2.0.9->benepar) (3.1.0)\n",
      "Requirement already satisfied: pyparsing>=2.0.2 in /opt/conda/lib/python3.7/site-packages (from packaging>=20.0->spacy>=2.0.9->benepar) (2.4.7)\n",
      "Building wheels for collected packages: benepar\n",
      "  Building wheel for benepar (setup.py) ... \u001b[?25ldone\n",
      "\u001b[?25h  Created wheel for benepar: filename=benepar-0.2.0-py3-none-any.whl size=37646 sha256=ed0893182e6de9ee63b71a1557cbd7be91009187914a6dfbc941429f47e04850\n",
      "  Stored in directory: /tmp/xdg-cache/pip/wheels/dc/6f/a3/4d27ce92766bdedd2cbbbedb8857fb7a53534331191cda4994\n",
      "Successfully built benepar\n",
      "Installing collected packages: torch-struct, benepar\n",
      "Successfully installed benepar-0.2.0 torch-struct-0.5\n",
      "Note: you may need to restart the kernel to use updated packages.\n"
     ]
    }
   ],
   "source": [
    "pip install benepar"
   ]
  },
  {
   "cell_type": "code",
   "execution_count": 4,
   "metadata": {},
   "outputs": [
    {
     "name": "stderr",
     "output_type": "stream",
     "text": [
      "[nltk_data] Downloading package benepar_en3 to\n",
      "[nltk_data]     /home/xuy021/nltk_data...\n",
      "[nltk_data]   Unzipping models/benepar_en3.zip.\n"
     ]
    },
    {
     "data": {
      "text/plain": [
       "True"
      ]
     },
     "execution_count": 4,
     "metadata": {},
     "output_type": "execute_result"
    }
   ],
   "source": [
    "import nltk\n",
    "import benepar\n",
    "import spacy\n",
    "\n",
    "benepar.download('benepar_en3')\n",
    "# benepar.download('benepar_en')"
   ]
  },
  {
   "cell_type": "code",
   "execution_count": null,
   "metadata": {},
   "outputs": [],
   "source": []
  }
 ],
 "metadata": {
  "kernelspec": {
   "display_name": "Python 3",
   "language": "python",
   "name": "python3"
  },
  "language_info": {
   "codemirror_mode": {
    "name": "ipython",
    "version": 3
   },
   "file_extension": ".py",
   "mimetype": "text/x-python",
   "name": "python",
   "nbconvert_exporter": "python",
   "pygments_lexer": "ipython3",
   "version": "3.7.6"
  }
 },
 "nbformat": 4,
 "nbformat_minor": 4
}
